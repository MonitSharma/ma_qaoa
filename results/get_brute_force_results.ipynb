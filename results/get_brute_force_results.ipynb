{
 "cells": [
  {
   "cell_type": "markdown",
   "id": "54299187-e1d5-468d-9117-c7af49df469a",
   "metadata": {},
   "source": [
    "# get_brute_force_results"
   ]
  },
  {
   "cell_type": "markdown",
   "id": "4d707611-5ba2-403e-8572-ca1fc3e86a1c",
   "metadata": {},
   "source": [
    "## Setup"
   ]
  },
  {
   "cell_type": "code",
   "execution_count": 1,
   "id": "9a6be767-9a87-407c-acc1-0aa2eb774596",
   "metadata": {},
   "outputs": [],
   "source": [
    "import os\n",
    "os.chdir(\"..\")"
   ]
  },
  {
   "cell_type": "code",
   "execution_count": 2,
   "id": "0c728e1c-d7ed-4689-856a-5222fea2a04d",
   "metadata": {},
   "outputs": [],
   "source": [
    "import numpy as np\n",
    "import pickle\n",
    "import sys"
   ]
  },
  {
   "cell_type": "code",
   "execution_count": 3,
   "id": "20316f1b-f587-4f6a-94ff-18595eaf998f",
   "metadata": {},
   "outputs": [],
   "source": [
    "from classes import Problems as P\n",
    "from functions import maxcut_utilities as mcut_utils"
   ]
  },
  {
   "cell_type": "markdown",
   "id": "802c046c-9317-4838-ac85-e29f364b9c10",
   "metadata": {},
   "source": [
    "## Data "
   ]
  },
  {
   "cell_type": "code",
   "execution_count": 4,
   "id": "8b467387-1f77-46f1-98df-1563597da6d3",
   "metadata": {},
   "outputs": [],
   "source": [
    "# Graphs\n",
    "graphs = []\n",
    "for i in range(16):\n",
    "    sys.path.append(\"classes/\")\n",
    "    path = \"data/graph_\"+str(i)+\".nx\"\n",
    "    with open(path, 'rb') as f:\n",
    "        g = pickle.load(f)\n",
    "    graphs.append(g)"
   ]
  },
  {
   "cell_type": "markdown",
   "id": "5c5849c4-d39b-477b-b980-73e1f71be936",
   "metadata": {},
   "source": [
    "## Results"
   ]
  },
  {
   "cell_type": "code",
   "execution_count": 5,
   "id": "ba5de8ec-f768-40d3-88d0-578ef635ca1c",
   "metadata": {},
   "outputs": [],
   "source": [
    "results = [0]*len(graphs)\n",
    "idx = 0\n",
    "for graph in graphs:\n",
    "    results[idx] = mcut_utils.compute_max_cut_exactly(graph)\n",
    "    idx += 1\n",
    "    \n",
    "\n",
    "with open(\"results/brute_force_results.pkl\", 'wb') as file:\n",
    "    pickle.dump(results, file)"
   ]
  },
  {
   "cell_type": "code",
   "execution_count": 6,
   "id": "701f17da-1bfd-45e9-96eb-2914cac37728",
   "metadata": {},
   "outputs": [
    {
     "name": "stdout",
     "output_type": "stream",
     "text": [
      "[4, 9, 16, 25, 2, 7, 7, 16, 3, 5, 7, 9, 4, 7, 10, 15]\n"
     ]
    }
   ],
   "source": [
    "with open(\"results/brute_force_results.pkl\", 'rb') as file:\n",
    "    res = pickle.load(file)\n",
    "\n",
    "print(res)"
   ]
  }
 ],
 "metadata": {
  "kernelspec": {
   "display_name": "Python 3 (ipykernel)",
   "language": "python",
   "name": "python3"
  },
  "language_info": {
   "codemirror_mode": {
    "name": "ipython",
    "version": 3
   },
   "file_extension": ".py",
   "mimetype": "text/x-python",
   "name": "python",
   "nbconvert_exporter": "python",
   "pygments_lexer": "ipython3",
   "version": "3.11.3"
  }
 },
 "nbformat": 4,
 "nbformat_minor": 5
}
