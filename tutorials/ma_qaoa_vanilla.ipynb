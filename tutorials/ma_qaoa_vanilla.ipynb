{
 "cells": [
  {
   "cell_type": "markdown",
   "id": "54299187-e1d5-468d-9117-c7af49df469a",
   "metadata": {},
   "source": [
    "# ma_qaoa_vanilla"
   ]
  },
  {
   "cell_type": "markdown",
   "id": "4d707611-5ba2-403e-8572-ca1fc3e86a1c",
   "metadata": {},
   "source": [
    "## Setup"
   ]
  },
  {
   "cell_type": "code",
   "execution_count": 18,
   "id": "6d4dd5e5",
   "metadata": {},
   "outputs": [
    {
     "name": "stdout",
     "output_type": "stream",
     "text": [
      "1.3.1\n"
     ]
    }
   ],
   "source": [
    "import numpy as np\n",
    "import pickle\n",
    "import sys\n",
    "import os\n",
    "import qiskit\n",
    "# print qiskit version \n",
    "print(qiskit.__version__)\n",
    "# Add the parent directory to the Python path\n",
    "sys.path.append(os.path.abspath(\"..\"))\n"
   ]
  },
  {
   "cell_type": "markdown",
   "id": "2d1f382b",
   "metadata": {},
   "source": [
    "### Multi Angle QAOA Imports"
   ]
  },
  {
   "cell_type": "code",
   "execution_count": 19,
   "id": "20316f1b-f587-4f6a-94ff-18595eaf998f",
   "metadata": {},
   "outputs": [],
   "source": [
    "from classes.MaQaoa import MaQaoa\n",
    "from classes.Problems import Problems as P\n",
    "from functions import ma_qaoa_utilities as ma_qaoa_utils\n",
    "from functions import maxcut_utilities as mcut_utils\n",
    "from functions import ma_qaoa_optimizers as optims"
   ]
  },
  {
   "cell_type": "code",
   "execution_count": 20,
   "id": "a34d779c-0f2c-417e-aac3-eb5c83084595",
   "metadata": {},
   "outputs": [],
   "source": [
    "from config import *"
   ]
  },
  {
   "cell_type": "markdown",
   "id": "802c046c-9317-4838-ac85-e29f364b9c10",
   "metadata": {},
   "source": [
    "## Data "
   ]
  },
  {
   "cell_type": "code",
   "execution_count": 21,
   "id": "9ee1976c",
   "metadata": {},
   "outputs": [],
   "source": [
    "import os\n",
    "import pickle\n",
    "\n",
    "graphs = []\n",
    "\n",
    "# Relative path to the data folder from the tutorials folder\n",
    "data_folder = os.path.join(\"..\", \"data\")\n",
    "\n",
    "for i in range(16):\n",
    "    file_path = os.path.join(data_folder, f\"graph_{i}.nx\")\n",
    "    \n",
    "    if os.path.exists(file_path):\n",
    "        with open(file_path, 'rb') as f:\n",
    "            g = pickle.load(f)\n",
    "            graphs.append(g)\n",
    "    else:\n",
    "        print(f\"File not found: {file_path}\")\n"
   ]
  },
  {
   "cell_type": "code",
   "execution_count": 22,
   "id": "cf305b22",
   "metadata": {},
   "outputs": [
    {
     "name": "stdout",
     "output_type": "stream",
     "text": [
      "File loaded successfully!\n"
     ]
    }
   ],
   "source": [
    "# Relative path to the results folder from the tutorials folder\n",
    "results_folder = os.path.join(\"..\", \"results\")\n",
    "\n",
    "# Path to the brute_force_results.pkl file\n",
    "results_file = os.path.join(results_folder, \"brute_force_results.pkl\")\n",
    "\n",
    "# Load the pickle file\n",
    "if os.path.exists(results_file):\n",
    "    with open(results_file, 'rb') as file:\n",
    "        bfs = pickle.load(file)\n",
    "    print(\"File loaded successfully!\")\n",
    "else:\n",
    "    print(f\"File not found: {results_file}\")"
   ]
  },
  {
   "cell_type": "markdown",
   "id": "5c5849c4-d39b-477b-b980-73e1f71be936",
   "metadata": {},
   "source": [
    "## Results"
   ]
  },
  {
   "cell_type": "code",
   "execution_count": 23,
   "id": "6cd54cee",
   "metadata": {},
   "outputs": [
    {
     "name": "stdout",
     "output_type": "stream",
     "text": [
      "Approximation ratio:  0.989990234375\n"
     ]
    }
   ],
   "source": [
    "\n",
    "idx = 0\n",
    "graph = graphs[idx]\n",
    "N = graph.get_number_of_nodes()\n",
    "M = graph.get_number_of_edges()\n",
    "betas = ma_qaoa_utils.generate_parameters(n=N*p, k=1) \n",
    "gammas = ma_qaoa_utils.generate_parameters(n=M*p, k=1)\n",
    "ma_qaoa = MaQaoa(p=p, G=graph, betas=betas, gammas=gammas, verbose=verbose)\n",
    "x,f =  optims.simple_optimization(ma_qaoa,verbose=verbose)\n",
    "solution = -f\n",
    "print(\"Approximation ratio: \", solution/bfs[idx])\n"
   ]
  }
 ],
 "metadata": {
  "kernelspec": {
   "display_name": ".venv",
   "language": "python",
   "name": "python3"
  },
  "language_info": {
   "codemirror_mode": {
    "name": "ipython",
    "version": 3
   },
   "file_extension": ".py",
   "mimetype": "text/x-python",
   "name": "python",
   "nbconvert_exporter": "python",
   "pygments_lexer": "ipython3",
   "version": "3.10.11"
  }
 },
 "nbformat": 4,
 "nbformat_minor": 5
}
