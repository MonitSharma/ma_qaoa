{
 "cells": [
  {
   "cell_type": "markdown",
   "id": "54299187-e1d5-468d-9117-c7af49df469a",
   "metadata": {},
   "source": [
    "# ma_qaoa_vanilla"
   ]
  },
  {
   "cell_type": "markdown",
   "id": "4d707611-5ba2-403e-8572-ca1fc3e86a1c",
   "metadata": {},
   "source": [
    "## Setup"
   ]
  },
  {
   "cell_type": "code",
   "execution_count": 1,
   "id": "9a6be767-9a87-407c-acc1-0aa2eb774596",
   "metadata": {},
   "outputs": [],
   "source": [
    "import os\n",
    "os.chdir(\"..\")"
   ]
  },
  {
   "cell_type": "code",
   "execution_count": 2,
   "id": "0c728e1c-d7ed-4689-856a-5222fea2a04d",
   "metadata": {},
   "outputs": [],
   "source": [
    "import numpy as np\n",
    "import pickle\n",
    "import sys"
   ]
  },
  {
   "cell_type": "code",
   "execution_count": 3,
   "id": "20316f1b-f587-4f6a-94ff-18595eaf998f",
   "metadata": {},
   "outputs": [],
   "source": [
    "from classes import MaQaoa as MAQ\n",
    "from classes import Problems as P\n",
    "from functions import ma_qaoa_utilities as ma_qaoa_utils\n",
    "from functions import maxcut_utilities as mcut_utils\n",
    "from functions import ma_qaoa_optimizers as optims"
   ]
  },
  {
   "cell_type": "code",
   "execution_count": 4,
   "id": "a34d779c-0f2c-417e-aac3-eb5c83084595",
   "metadata": {},
   "outputs": [],
   "source": [
    "from config import *"
   ]
  },
  {
   "cell_type": "markdown",
   "id": "802c046c-9317-4838-ac85-e29f364b9c10",
   "metadata": {},
   "source": [
    "## Data "
   ]
  },
  {
   "cell_type": "code",
   "execution_count": 5,
   "id": "8b467387-1f77-46f1-98df-1563597da6d3",
   "metadata": {},
   "outputs": [],
   "source": [
    "graphs = []\n",
    "for i in range(16):\n",
    "    sys.path.append(\"classes/\")\n",
    "    path = \"data/graph_\"+str(i)+\".nx\"\n",
    "    with open(path, 'rb') as f:\n",
    "        g = pickle.load(f)\n",
    "    graphs.append(g)"
   ]
  },
  {
   "cell_type": "code",
   "execution_count": 6,
   "id": "914f4957",
   "metadata": {},
   "outputs": [],
   "source": [
    "with open(\"results/brute_force_results.pkl\", 'rb') as file:\n",
    "    bfs = pickle.load(file)"
   ]
  },
  {
   "cell_type": "markdown",
   "id": "5c5849c4-d39b-477b-b980-73e1f71be936",
   "metadata": {},
   "source": [
    "## Results"
   ]
  },
  {
   "cell_type": "code",
   "execution_count": 10,
   "id": "ba5de8ec-f768-40d3-88d0-578ef635ca1c",
   "metadata": {},
   "outputs": [
    {
     "name": "stdout",
     "output_type": "stream",
     "text": [
      "Approximation ratio:  0.99560546875\n"
     ]
    }
   ],
   "source": [
    "idx = 0\n",
    "graph = graphs[idx]\n",
    "N = graph.get_number_of_nodes()\n",
    "M = graph.get_number_of_edges()\n",
    "betas = ma_qaoa_utils.generate_parameters(n=N*p, k=1) \n",
    "gammas = ma_qaoa_utils.generate_parameters(n=M*p, k=1)\n",
    "ma_qaoa = MAQ.MaQaoa(p=p,G=graph, betas=betas, gammas=gammas, verbose=verbose)\n",
    "x,f =  optims.simple_optimization(ma_qaoa,verbose=verbose)\n",
    "solution = -f\n",
    "print(\"Approximation ratio: \", solution/bfs[idx])"
   ]
  }
 ],
 "metadata": {
  "kernelspec": {
   "display_name": "Python 3 (ipykernel)",
   "language": "python",
   "name": "python3"
  },
  "language_info": {
   "codemirror_mode": {
    "name": "ipython",
    "version": 3
   },
   "file_extension": ".py",
   "mimetype": "text/x-python",
   "name": "python",
   "nbconvert_exporter": "python",
   "pygments_lexer": "ipython3",
   "version": "3.11.0"
  }
 },
 "nbformat": 4,
 "nbformat_minor": 5
}
